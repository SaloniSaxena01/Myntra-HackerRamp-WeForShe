{
  "nbformat": 4,
  "nbformat_minor": 0,
  "metadata": {
    "colab": {
      "name": "SizeEstimation.ipynb",
      "provenance": [],
      "collapsed_sections": []
    },
    "kernelspec": {
      "name": "python3",
      "display_name": "Python 3"
    },
    "language_info": {
      "name": "python"
    }
  },
  "cells": [
    {
      "cell_type": "code",
      "metadata": {
        "id": "6SphIn3-FjlZ",
        "colab": {
          "base_uri": "https://localhost:8080/"
        },
        "outputId": "85d8e0e1-1e48-4327-c14a-541aa948bdba"
      },
      "source": [
        "!pip install opencv-python==4.4.0.40"
      ],
      "execution_count": 1,
      "outputs": [
        {
          "output_type": "stream",
          "text": [
            "Collecting opencv-python==4.4.0.40\n",
            "\u001b[?25l  Downloading https://files.pythonhosted.org/packages/e3/16/236fdaea6d1670e97544e7eae9b732b710b37e82aabb76ba90c394127703/opencv_python-4.4.0.40-cp37-cp37m-manylinux2014_x86_64.whl (49.4MB)\n",
            "\u001b[K     |████████████████████████████████| 49.4MB 85kB/s \n",
            "\u001b[?25hRequirement already satisfied: numpy>=1.14.5 in /usr/local/lib/python3.7/dist-packages (from opencv-python==4.4.0.40) (1.19.5)\n",
            "\u001b[31mERROR: albumentations 0.1.12 has requirement imgaug<0.2.7,>=0.2.5, but you'll have imgaug 0.2.9 which is incompatible.\u001b[0m\n",
            "Installing collected packages: opencv-python\n",
            "  Found existing installation: opencv-python 4.1.2.30\n",
            "    Uninstalling opencv-python-4.1.2.30:\n",
            "      Successfully uninstalled opencv-python-4.1.2.30\n",
            "Successfully installed opencv-python-4.4.0.40\n"
          ],
          "name": "stdout"
        }
      ]
    },
    {
      "cell_type": "code",
      "metadata": {
        "id": "Ek_3tkQlFfln",
        "colab": {
          "base_uri": "https://localhost:8080/"
        },
        "outputId": "f49e96e7-9cb2-4f6b-afa3-66ddbe05c889"
      },
      "source": [
        "!pip install scikit-image"
      ],
      "execution_count": 2,
      "outputs": [
        {
          "output_type": "stream",
          "text": [
            "Requirement already satisfied: scikit-image in /usr/local/lib/python3.7/dist-packages (0.16.2)\n",
            "Requirement already satisfied: imageio>=2.3.0 in /usr/local/lib/python3.7/dist-packages (from scikit-image) (2.4.1)\n",
            "Requirement already satisfied: scipy>=0.19.0 in /usr/local/lib/python3.7/dist-packages (from scikit-image) (1.4.1)\n",
            "Requirement already satisfied: pillow>=4.3.0 in /usr/local/lib/python3.7/dist-packages (from scikit-image) (7.1.2)\n",
            "Requirement already satisfied: networkx>=2.0 in /usr/local/lib/python3.7/dist-packages (from scikit-image) (2.5)\n",
            "Requirement already satisfied: PyWavelets>=0.4.0 in /usr/local/lib/python3.7/dist-packages (from scikit-image) (1.1.1)\n",
            "Requirement already satisfied: matplotlib!=3.0.0,>=2.0.0 in /usr/local/lib/python3.7/dist-packages (from scikit-image) (3.2.2)\n",
            "Requirement already satisfied: numpy in /usr/local/lib/python3.7/dist-packages (from imageio>=2.3.0->scikit-image) (1.19.5)\n",
            "Requirement already satisfied: decorator>=4.3.0 in /usr/local/lib/python3.7/dist-packages (from networkx>=2.0->scikit-image) (4.4.2)\n",
            "Requirement already satisfied: python-dateutil>=2.1 in /usr/local/lib/python3.7/dist-packages (from matplotlib!=3.0.0,>=2.0.0->scikit-image) (2.8.1)\n",
            "Requirement already satisfied: kiwisolver>=1.0.1 in /usr/local/lib/python3.7/dist-packages (from matplotlib!=3.0.0,>=2.0.0->scikit-image) (1.3.1)\n",
            "Requirement already satisfied: cycler>=0.10 in /usr/local/lib/python3.7/dist-packages (from matplotlib!=3.0.0,>=2.0.0->scikit-image) (0.10.0)\n",
            "Requirement already satisfied: pyparsing!=2.0.4,!=2.1.2,!=2.1.6,>=2.0.1 in /usr/local/lib/python3.7/dist-packages (from matplotlib!=3.0.0,>=2.0.0->scikit-image) (2.4.7)\n",
            "Requirement already satisfied: six>=1.5 in /usr/local/lib/python3.7/dist-packages (from python-dateutil>=2.1->matplotlib!=3.0.0,>=2.0.0->scikit-image) (1.15.0)\n"
          ],
          "name": "stdout"
        }
      ]
    },
    {
      "cell_type": "code",
      "metadata": {
        "id": "ZqHivOw8FXD3",
        "colab": {
          "base_uri": "https://localhost:8080/"
        },
        "outputId": "ec6142de-7d22-4f80-ec50-969e937c559a"
      },
      "source": [
        "!pip install pixellib"
      ],
      "execution_count": 3,
      "outputs": [
        {
          "output_type": "stream",
          "text": [
            "Collecting pixellib\n",
            "\u001b[?25l  Downloading https://files.pythonhosted.org/packages/a4/c3/2a55be96fd11189cd0f3449c699fc02f19ce0d205c49d0780034eb006352/pixellib-0.6.1-py3-none-any.whl (68kB)\n",
            "\r\u001b[K     |████▊                           | 10kB 6.1MB/s eta 0:00:01\r\u001b[K     |█████████▌                      | 20kB 10.4MB/s eta 0:00:01\r\u001b[K     |██████████████▎                 | 30kB 13.6MB/s eta 0:00:01\r\u001b[K     |███████████████████             | 40kB 10.6MB/s eta 0:00:01\r\u001b[K     |███████████████████████▉        | 51kB 8.8MB/s eta 0:00:01\r\u001b[K     |████████████████████████████▋   | 61kB 7.1MB/s eta 0:00:01\r\u001b[K     |████████████████████████████████| 71kB 4.6MB/s \n",
            "\u001b[?25hCollecting labelme2coco\n",
            "  Downloading https://files.pythonhosted.org/packages/36/bf/a0ae23452fccb2215cecdff4df85fd29af4adfbd14e1bcb78379efedd968/labelme2coco-0.1.2-py3-none-any.whl\n",
            "Requirement already satisfied: opencv-python in /usr/local/lib/python3.7/dist-packages (from pixellib) (4.4.0.40)\n",
            "Requirement already satisfied: imgaug in /usr/local/lib/python3.7/dist-packages (from pixellib) (0.2.9)\n",
            "Requirement already satisfied: matplotlib in /usr/local/lib/python3.7/dist-packages (from pixellib) (3.2.2)\n",
            "Collecting imantics\n",
            "  Downloading https://files.pythonhosted.org/packages/1a/ff/8f92fa03b42f14860bc882d08187b359d3b8f9ef670d4efbed090d451c58/imantics-0.1.12.tar.gz\n",
            "Requirement already satisfied: scikit-image in /usr/local/lib/python3.7/dist-packages (from pixellib) (0.16.2)\n",
            "Requirement already satisfied: pillow in /usr/local/lib/python3.7/dist-packages (from pixellib) (7.1.2)\n",
            "Requirement already satisfied: jsonschema>=2.6.0 in /usr/local/lib/python3.7/dist-packages (from labelme2coco->pixellib) (2.6.0)\n",
            "Requirement already satisfied: numpy>=1.15.1 in /usr/local/lib/python3.7/dist-packages (from labelme2coco->pixellib) (1.19.5)\n",
            "Requirement already satisfied: imageio in /usr/local/lib/python3.7/dist-packages (from imgaug->pixellib) (2.4.1)\n",
            "Requirement already satisfied: scipy in /usr/local/lib/python3.7/dist-packages (from imgaug->pixellib) (1.4.1)\n",
            "Requirement already satisfied: six in /usr/local/lib/python3.7/dist-packages (from imgaug->pixellib) (1.15.0)\n",
            "Requirement already satisfied: Shapely in /usr/local/lib/python3.7/dist-packages (from imgaug->pixellib) (1.7.1)\n",
            "Requirement already satisfied: kiwisolver>=1.0.1 in /usr/local/lib/python3.7/dist-packages (from matplotlib->pixellib) (1.3.1)\n",
            "Requirement already satisfied: pyparsing!=2.0.4,!=2.1.2,!=2.1.6,>=2.0.1 in /usr/local/lib/python3.7/dist-packages (from matplotlib->pixellib) (2.4.7)\n",
            "Requirement already satisfied: python-dateutil>=2.1 in /usr/local/lib/python3.7/dist-packages (from matplotlib->pixellib) (2.8.1)\n",
            "Requirement already satisfied: cycler>=0.10 in /usr/local/lib/python3.7/dist-packages (from matplotlib->pixellib) (0.10.0)\n",
            "Requirement already satisfied: lxml in /usr/local/lib/python3.7/dist-packages (from imantics->pixellib) (4.2.6)\n",
            "Collecting xmljson\n",
            "  Downloading https://files.pythonhosted.org/packages/91/2d/7191efe15406b8b99e2b5905ca676a8a3dc2936416ade7ed17752902c250/xmljson-0.2.1-py2.py3-none-any.whl\n",
            "Requirement already satisfied: networkx>=2.0 in /usr/local/lib/python3.7/dist-packages (from scikit-image->pixellib) (2.5)\n",
            "Requirement already satisfied: PyWavelets>=0.4.0 in /usr/local/lib/python3.7/dist-packages (from scikit-image->pixellib) (1.1.1)\n",
            "Requirement already satisfied: decorator>=4.3.0 in /usr/local/lib/python3.7/dist-packages (from networkx>=2.0->scikit-image->pixellib) (4.4.2)\n",
            "Building wheels for collected packages: imantics\n",
            "  Building wheel for imantics (setup.py) ... \u001b[?25l\u001b[?25hdone\n",
            "  Created wheel for imantics: filename=imantics-0.1.12-cp37-none-any.whl size=16033 sha256=e1a6f0765cf888642c1f9c39084ec5135b09a8f69ed5ebdd6b6c735bf0af252a\n",
            "  Stored in directory: /root/.cache/pip/wheels/73/93/1c/9e2fc52eb74441941bc76cac441ddcc2c7ad67b18e1849e62a\n",
            "Successfully built imantics\n",
            "Installing collected packages: labelme2coco, xmljson, imantics, pixellib\n",
            "Successfully installed imantics-0.1.12 labelme2coco-0.1.2 pixellib-0.6.1 xmljson-0.2.1\n"
          ],
          "name": "stdout"
        }
      ]
    },
    {
      "cell_type": "code",
      "metadata": {
        "id": "c9E2qSPrFGmw"
      },
      "source": [
        "import pixellib\n",
        "from pixellib.instance import instance_segmentation\n",
        "import matplotlib.pyplot as plt\n",
        "import cv2\n",
        "\n",
        "class Measure:\n",
        "  #Class vars\n",
        "  #stores the pixel count of the desired area\n",
        "  PIXEL_COUNT = 0\n",
        "\n",
        "    #Input from user\n",
        "  def __init__(self, input_im, a_height, a_leglength):\n",
        "    #actual height of the person measured manually\n",
        "    self.a_height = a_height\n",
        "    #actual leg length of the person(below belly button) measured manually\n",
        "    self.a_leglength = a_leglength\n",
        "    #ratio of headtoheight : 1:7.5 approx \n",
        "    self.a_head = (1/7.5)*a_height  #actual size of head\n",
        "\n",
        "    #Detect object(person) from image\n",
        "    instance_seg = instance_segmentation()\n",
        "    #mask_rcnn_coco.h5 is the pre trained model for object detection\n",
        "    instance_seg.load_model(\"/content/drive/MyDrive/mask_rcnn_coco.h5\")\n",
        "    self.segmask, output = instance_seg.segmentImage(input_im, show_bboxes= True, output_image_name = \"final.jpg\")\n",
        "\n",
        "   #converts the coloured image to silhouette\n",
        "  def segment_to_black(self):\n",
        "     #Reading the image generated after person detection \n",
        "    im = cv2.imread('/content/final.jpg')\n",
        "    #generates a rectangle around detected person in the image\n",
        "    for index_x, x in enumerate(im):\n",
        "        for index_y, y in enumerate(x):\n",
        "          #stores the coordinates of the rectangle generated around the person in the image\n",
        "          v = self.segmask['masks'][index_x][index_y] \n",
        "          #if person is detected ,it is converted into a silhouette\n",
        "          if v.any() == [True]:\n",
        "            im[index_x][index_y] = [0, 0, 0] \n",
        "    cv2.imwrite(\"/content/final.jpg\", im)   # saving and overwriting final.jpg \n",
        "    #plt.imshow(cv2.cvtColor(im, cv2.COLOR_BGR2RGB)) #graphical representation\n",
        "\n",
        "  def crop_and_resize(self):\n",
        "    #Cropping the final.jpg \n",
        "    final = cv2.imread(\"/content/final.jpg\")   \n",
        "    x1, y1, x2, y2 = self.segmask['rois'][0]\n",
        "    crop_img = final[x1:x2, y1:y2]\n",
        "    cv2.imwrite(\"finalcrop.jpg\", crop_img)\n",
        "    print(f\"Cropped image shape - {crop_img.shape}\") #prints the coordinates of the cropped image\n",
        "    #plt.imshow(cv2.cvtColor(cv2.imread(\"/content/finalcrop.jpg\"), cv2.COLOR_BGR2RGB))\n",
        "\n",
        "    #Resizing the final image\n",
        "    i_xAxis = 64.0 / crop_img.shape[1]  #setting one parameter(width) along x-axis\n",
        "    dim = (64, int(crop_img.shape[0] * i_xAxis))  #stores the x and y coordinates of the cropped image\n",
        "    self.resized = cv2.resize(crop_img, dim, interpolation = cv2.INTER_AREA)\n",
        "    cv2.imwrite(\"resized.jpg\", self.resized)\n",
        "    print(f\"Resized image shape - {self.resized.shape}\")\n",
        "    #plt.imshow(cv2.cvtColor(cv2.imread(\"/content/resized.jpg\"), cv2.COLOR_BGR2RGB))\n",
        "  \n",
        "    #for front and side hip measurement\n",
        "  def hip_measurement(self): \n",
        "    #calculates the ratio of upper body to height\n",
        "    rubth = (self.a_height - self.a_leglength)/self.a_height\n",
        "    #stores the height of upper body in the image\n",
        "    i_ub = rubth * self.resized.shape[0] \n",
        "    #stores the height of lower body in the image\n",
        "    i_recub = self.resized.shape[0] - i_ub\n",
        "    #generates a green coloured rectangle around the calculated dimensions(hip region)\n",
        "    flood_input = cv2.rectangle(self.resized, (0,int(i_ub)), (64,int(i_recub)),(0,255,0)) \n",
        "    x1, y1, x2, y2 = 0, int(i_ub), 64, int(i_recub)\n",
        "    #calculates the mid point of the hip region\n",
        "    mid_y = y1 + int((y2 - y1)/2) \n",
        "    mid_x = int((x2 - x1)/2)\n",
        "    print(f\"Hip detection rectangle mid-point -> {mid_x, mid_y}\")\n",
        "    return (mid_x, mid_y, flood_input)\n",
        "\n",
        "  def shoulder_measurement(self):\n",
        "    ratio_ubth = (self.a_height - self.a_leglength)/(self.a_height)\n",
        "    i_head = self.resized.shape[0]*(1/7.5)\n",
        "    i_upperbody = (7.5*ratio_ubth)*(i_head)\n",
        "    fub = i_head + ((i_upperbody-i_head)/2)\n",
        "    flood_input = cv2.rectangle(self.resized, (0,int(i_head)),(64,(int(fub))), (0,255,0))\n",
        "    x1, y1, x2, y2 = 0, int(i_head), 64, int(fub)\n",
        "    mid_y = y1 + int((y2 - y1)/2)\n",
        "    mid_x = int((x2 - x1)/2)\n",
        "    print(f\"Shoulder detection rectangle mid-point -> {mid_x, mid_y}\")\n",
        "    return (mid_x, mid_y, flood_input)\n",
        "     \n",
        "    #for side chest measurement\n",
        "  def side_chest_measurement(self):\n",
        "    #ratio of upper body to height\n",
        "    ratio_ubth = (self.a_height - self.a_leglength)/(self.a_height)\n",
        "    #stores the size of head\n",
        "    i_head = self.resized.shape[0]*(1/7.5)\n",
        "    i_upperbody = (7.5*ratio_ubth)*(i_head)\n",
        "    fub = i_head + ((i_upperbody-i_head)/2)\n",
        "\n",
        "    x1, y1, x2, y2 = 0, int(i_head), 64, int(fub)\n",
        "    #claculating the mid point of chest region\n",
        "    mid_y = y1 + int((y2 - y1)/2)\n",
        "    mid_x = int((x2 - x1)/2)\n",
        "    a = i_head + ((int(fub)-mid_y)*2.2)\n",
        "    mid_x = 32\n",
        "    mid_y = int(a)\n",
        "    print(f\"Side-Chest detection mid-point -> {mid_x, mid_y}\")\n",
        "    return (mid_x, mid_y)\n",
        "\n",
        "  #for front chest measurements\n",
        "  def front_chest_measurement(self):\n",
        "    #ratio of upper body to the height\n",
        "    ratio_ubth = (self.a_height - self.a_leglength)/(self.a_height)\n",
        "    i_head = self.resized.shape[0]*(1/7.5)\n",
        "    i_upperbody = (7.5*ratio_ubth)*(i_head)\n",
        "    fub = i_head + ((i_upperbody-i_head)/2)\n",
        "\n",
        "    x1, y1, x2, y2 = 0, int(i_head), 64, int(fub)\n",
        "    mid_y = y1 + int((y2 - y1)/2)\n",
        "    mid_x = int((x2 - x1)/2)\n",
        "    a = i_head + ((int(fub)-mid_y)*2)\n",
        "    mid_x = 32\n",
        "    mid_y = int(a)\n",
        "    print(f\"Front-Chest detection mid-point -> {mid_x, mid_y}\")\n",
        "    return (mid_x, mid_y)\n",
        "\n",
        "  #area(desired body parts) filling function\n",
        "  def flood_fill_right(self, x, y, im):\n",
        "    OldColor = [0, 0, 0] #black\n",
        "    CurrentColor = im[y][x]\n",
        "    #color = [b,g,r]\n",
        "    \n",
        "    #Main algo -> if CurrentColor == OldColor\n",
        "    if (CurrentColor[0] == OldColor[0] and CurrentColor[1] == OldColor[1] and CurrentColor[2] == OldColor[2]):\n",
        "        im = cv2.circle(im, (x, y), radius=0, color=(0, 0, 255), thickness = -1) #draws a red line in the desired black region(hip/chest)\n",
        "        #calculates the pixel count of the desired region\n",
        "        Measure.PIXEL_COUNT += 1\n",
        "        #traversing to the right side of the image\n",
        "        self.flood_fill_right(x+1, y,im)\n",
        "\n",
        "  def flood_fill_left(self, x, y, im):\n",
        "      OldColor = [0, 0, 0] #black\n",
        "      CurrentColor = im[y][x-1]\n",
        "      # color = [b, g, r]\n",
        "      \n",
        "      #Main algo -> if CurrentColor == OldColor\n",
        "      if (CurrentColor[0] == OldColor[0] and CurrentColor[1] == OldColor[1] and CurrentColor[2] == OldColor[2]):\n",
        "          im = cv2.circle(im, (x, y), radius=0, color=(0, 0, 255), thickness = -1)\n",
        "          Measure.PIXEL_COUNT += 1\n",
        "          #traversing to the left side of the image\n",
        "          self.flood_fill_left(x-1, y,im)\n",
        "      return im"
      ],
      "execution_count": 8,
      "outputs": []
    },
    {
      "cell_type": "code",
      "metadata": {
        "colab": {
          "base_uri": "https://localhost:8080/"
        },
        "id": "PfDG3aHoyqj5",
        "outputId": "003ebcbc-fdbb-4b72-8dfd-70038242b1f2"
      },
      "source": [
        "height = float(input(\"Enter height: \"))\n",
        "leglength = float(input(\"Enter leglength: \"))"
      ],
      "execution_count": 10,
      "outputs": [
        {
          "output_type": "stream",
          "text": [
            "Enter height: 162.5\n",
            "Enter leglength: 101.6\n"
          ],
          "name": "stdout"
        }
      ]
    },
    {
      "cell_type": "code",
      "metadata": {
        "colab": {
          "base_uri": "https://localhost:8080/"
        },
        "id": "GxYo0WYWFU1w",
        "outputId": "a87d0a44-7650-4d83-a573-fc0faa53f751"
      },
      "source": [
        "#Front Image\n",
        "person = Measure(\"/content/testa2.jpeg\" , height, leglength) #(image_for_measurement,actual height,actual leg length)\n",
        "person.segment_to_black() #silhouette formation\n",
        "\n",
        "person.crop_and_resize() #cropping and resizing of image\n",
        "\n",
        "x, y, flood_input = person.hip_measurement() #for counting pixel of front hip measurement\n",
        "Measure.PIXEL_COUNT = 0\n",
        "person.flood_fill_right(x, y, flood_input)\n",
        "im = person.flood_fill_left(x, y, flood_input)\n",
        "cv2.imwrite(\"fronthip.jpeg\",im)\n",
        "fronthip = Measure.PIXEL_COUNT + 4\n",
        "print(f\"Hip Pixel count -> {Measure.PIXEL_COUNT + 4}\")\n",
        "\n",
        "person.crop_and_resize()\n",
        "\n",
        "x, y = person.front_chest_measurement() #for counting of front chest measurement\n",
        "Measure.PIXEL_COUNT = 0\n",
        "person.flood_fill_right(x, y, person.resized)\n",
        "im = person.flood_fill_left(x, y, person.resized)\n",
        "cv2.imwrite(\"frontchest.jpeg\",im)\n",
        "frontchest = Measure.PIXEL_COUNT + 2\n",
        "print(f\"Front Chest Pixel count -> {Measure.PIXEL_COUNT + 2}\")"
      ],
      "execution_count": 11,
      "outputs": [
        {
          "output_type": "stream",
          "text": [
            "/usr/local/lib/python3.7/dist-packages/tensorflow/python/keras/engine/training.py:2325: UserWarning: `Model.state_updates` will be removed in a future version. This property should not be used in TensorFlow 2.0, as `updates` are applied automatically.\n",
            "  warnings.warn('`Model.state_updates` will be removed in a future version. '\n"
          ],
          "name": "stderr"
        },
        {
          "output_type": "stream",
          "text": [
            "Processed image saved successfully in your current working directory.\n",
            "Cropped image shape - (797, 785, 3)\n",
            "Resized image shape - (64, 64, 3)\n",
            "Hip detection rectangle mid-point -> (32, 31)\n",
            "Hip Pixel count -> 16\n",
            "Cropped image shape - (797, 785, 3)\n",
            "Resized image shape - (64, 64, 3)\n",
            "Front-Chest detection mid-point -> (32, 16)\n",
            "Front Chest Pixel count -> 19\n"
          ],
          "name": "stdout"
        }
      ]
    },
    {
      "cell_type": "code",
      "metadata": {
        "colab": {
          "base_uri": "https://localhost:8080/"
        },
        "id": "CGPpM5m5F0KQ",
        "outputId": "2033b025-8428-44ec-adb2-9500666e15fa"
      },
      "source": [
        "# Side Image\n",
        "person = Measure(\"/content/testa3.jpeg\",height ,leglength )\n",
        "person.segment_to_black() #silhouette conversion\n",
        "\n",
        "person.crop_and_resize() #cropping and resizing the image\n",
        "\n",
        "x, y, flood_input = person.hip_measurement() #for counting pixel of side hip measurement\n",
        "Measure.PIXEL_COUNT = 0\n",
        "person.flood_fill_right(x, y, flood_input)\n",
        "im = person.flood_fill_left(x, y, flood_input)\n",
        "cv2.imwrite(\"sidehip.jpeg\",im)\n",
        "sidehip = Measure.PIXEL_COUNT + 2\n",
        "print(f\"Hip Pixel count -> {Measure.PIXEL_COUNT + 2}\")\n",
        "\n",
        "person.crop_and_resize()\n",
        "\n",
        "x, y = person.side_chest_measurement()  #for counting pixel of side chest measurement\n",
        "Measure.PIXEL_COUNT = 0\n",
        "person.flood_fill_right(x, y, person.resized)\n",
        "im = person.flood_fill_left(x, y, person.resized)\n",
        "cv2.imwrite(\"sidechest.jpeg\",im)\n",
        "sidechest = Measure.PIXEL_COUNT + 4\n",
        "print(f\"Side Chest Pixel count -> {Measure.PIXEL_COUNT + 4}\")"
      ],
      "execution_count": 12,
      "outputs": [
        {
          "output_type": "stream",
          "text": [
            "/usr/local/lib/python3.7/dist-packages/tensorflow/python/keras/engine/training.py:2325: UserWarning: `Model.state_updates` will be removed in a future version. This property should not be used in TensorFlow 2.0, as `updates` are applied automatically.\n",
            "  warnings.warn('`Model.state_updates` will be removed in a future version. '\n"
          ],
          "name": "stderr"
        },
        {
          "output_type": "stream",
          "text": [
            "Processed image saved successfully in your current working directory.\n",
            "Cropped image shape - (848, 188, 3)\n",
            "Resized image shape - (288, 64, 3)\n",
            "Hip detection rectangle mid-point -> (32, 143)\n",
            "Hip Pixel count -> 50\n",
            "Cropped image shape - (848, 188, 3)\n",
            "Resized image shape - (288, 64, 3)\n",
            "Side-Chest detection mid-point -> (32, 78)\n",
            "Side Chest Pixel count -> 53\n"
          ],
          "name": "stdout"
        }
      ]
    },
    {
      "cell_type": "code",
      "metadata": {
        "id": "TMuuBxbP4HSe",
        "colab": {
          "base_uri": "https://localhost:8080/"
        },
        "outputId": "14f07c9e-8ab5-441f-d150-0a26da60d0be"
      },
      "source": [
        "import pandas as pd\n",
        "import numpy as np\n",
        "import matplotlib.pyplot as plt\n",
        "from sklearn.linear_model import LinearRegression\n",
        "df = pd.read_csv('measure.csv') #file containing pixel count\n",
        "Gender = 'F'\n",
        "f=[] # stores total pixel count\n",
        "for i,j in zip(df['front_hip'],df['side_hip']):\n",
        "  # calculates total perimeter around the hip\n",
        "    d = i*2 + j*2 \n",
        "    f.append(round(d,2)) # rounding off to 2 decimal places\n",
        "\n",
        "no_of_samples = 6\n",
        "x = np.array(f) # stores input of pixel count obtained from the image\n",
        "x = x.reshape(no_of_samples, 1)\n",
        "y = np.array(df['hip']) # stores the output(actual) measurement\n",
        "y = y.reshape(no_of_samples, 1)\n",
        "\n",
        "# Model initialization\n",
        "regression_model = LinearRegression() #using y=mx+c\n",
        "# Fit the data(train the model)\n",
        "regression_model.fit(x, y)\n",
        "# printing values\n",
        "print('Slope:' ,regression_model.coef_) #calculating slope\n",
        "print('Intercept:', regression_model.intercept_)#calculating intercept\n",
        "# calculating hip size using pixel counts\n",
        "calculated_hip = fronthip*2 + sidehip*2\n",
        "# calculating final hip(y) using slope and intercept\n",
        "final_hip = regression_model.coef_*calculated_hip+regression_model.intercept_\n",
        "print(f\"Final Hip - {final_hip[0]}\")\n",
        "# list containing the calculated pixel counts\n",
        "calculated = []\n",
        "for i in x:\n",
        "  # stores the actual body measurement \n",
        "    j = regression_model.coef_*i+regression_model.intercept_\n",
        "    calculated.append(j)\n",
        "calculatedf = np.array(calculated)\n",
        "waist = []\n",
        "for k in calculatedf:\n",
        "  if Gender =='F':\n",
        "  # using waist to hip ratio\n",
        "    r = k * 0.83\n",
        "  else:\n",
        "    r = k * 0.98\n",
        "  waist.append(r)\n",
        "#print(np.array(waist))\n",
        "#print(np.array(df['waist']))\n",
        "a = np.array(waist) # stores input of pixel count obtained from the image\n",
        "a = a.reshape(no_of_samples, 1)\n",
        "b = np.array(df['waist'])#s tores the output(actual) measurement\n",
        "b = b.reshape(no_of_samples, 1)\n",
        "if Gender == 'F':\n",
        "  calculated_waist = final_hip * 0.83 # for female\n",
        "else:\n",
        "  calculated_waist = final_hip * 0.98 # for male\n",
        "\n",
        "# Model initialization\n",
        "regression_model = LinearRegression()\n",
        "# Fit the data(train the model)\n",
        "regression_model.fit(a,b)\n",
        "# printing values\n",
        "print('Slope:' ,regression_model.coef_) # calculating slope\n",
        "print('Intercept:', regression_model.intercept_) # calculating intercept\n",
        "# calculating final waist(y) using slope and intercept\n",
        "final_waist = regression_model.coef_*calculated_waist+regression_model.intercept_\n",
        "print(f\"Final waist - {final_waist[0]}\")"
      ],
      "execution_count": 14,
      "outputs": [
        {
          "output_type": "stream",
          "text": [
            "Slope: [[1.14520674]]\n",
            "Intercept: [-48.78180704]\n",
            "Final Hip - [102.38548239]\n",
            "Slope: [[1.57764593]]\n",
            "Intercept: [-44.99923778]\n",
            "Final waist - [89.06903522]\n"
          ],
          "name": "stdout"
        }
      ]
    },
    {
      "cell_type": "code",
      "metadata": {
        "id": "CELL5Vk8-ZXn",
        "colab": {
          "base_uri": "https://localhost:8080/"
        },
        "outputId": "755524f1-0b01-4d24-9b12-122831ac102e"
      },
      "source": [
        "df = pd.read_csv('measure.csv')\n",
        "f=[]\n",
        "for i,j in zip(df['front_chest'],df['side_chest']):\n",
        "  # calculates total perimeter around the chest\n",
        "    d = i*2 + j*2 \n",
        "    f.append(round(d,2)) # rounding off to 2 decimal places\n",
        "no_of_samples = 5\n",
        "x = np.array(f) # stores input of pixel count obtained from the image\n",
        "x = x.reshape(no_of_samples, 1)\n",
        "y = np.array(df['bust']) # stores the output(actual) measurement\n",
        "y = y.reshape(no_of_samples, 1)\n",
        "\n",
        "# Model initialization\n",
        "regression_model = LinearRegression()\n",
        "# Fit the data(train the model)\n",
        "regression_model.fit(x, y)\n",
        "# printing values\n",
        "print('Slope:' ,regression_model.coef_) # calculating slope\n",
        "print('Intercept:', regression_model.intercept_) # calculating intercept\n",
        "# calculating chest size using pixel counts\n",
        "calculated_chest = frontchest*2 + sidechest*2\n",
        "# calculating final chest(y) using slope and intercept\n",
        "final_chest = regression_model.coef_*calculated_chest+regression_model.intercept_\n",
        "print(final_chest[0])"
      ],
      "execution_count": 15,
      "outputs": [
        {
          "output_type": "stream",
          "text": [
            "Slope: [[1.75828358]]\n",
            "Intercept: [-143.28074627]\n",
            "[109.91208955]\n"
          ],
          "name": "stdout"
        }
      ]
    },
    {
      "cell_type": "code",
      "metadata": {
        "colab": {
          "base_uri": "https://localhost:8080/"
        },
        "id": "9Ms8BEYhMyUy",
        "outputId": "b7c6f8fa-bf6e-44d5-8254-ac5aaaec3905"
      },
      "source": [
        "from google.colab import drive\n",
        "drive.mount('/content/drive')"
      ],
      "execution_count": 9,
      "outputs": [
        {
          "output_type": "stream",
          "text": [
            "Mounted at /content/drive\n"
          ],
          "name": "stdout"
        }
      ]
    },
    {
      "cell_type": "code",
      "metadata": {
        "colab": {
          "base_uri": "https://localhost:8080/",
          "height": 432
        },
        "id": "goKemKFCddGv",
        "outputId": "66f89b9f-1253-498d-b5f2-eaf3084a4453"
      },
      "source": [
        "df = pd.read_csv('/content/FinalDatasetMyntra.csv')\n",
        "df.at[9,'Waist']= '91-95 cm (35.5\"-37.5\")'\n",
        "df.head(13)"
      ],
      "execution_count": 17,
      "outputs": [
        {
          "output_type": "execute_result",
          "data": {
            "text/html": [
              "<div>\n",
              "<style scoped>\n",
              "    .dataframe tbody tr th:only-of-type {\n",
              "        vertical-align: middle;\n",
              "    }\n",
              "\n",
              "    .dataframe tbody tr th {\n",
              "        vertical-align: top;\n",
              "    }\n",
              "\n",
              "    .dataframe thead th {\n",
              "        text-align: right;\n",
              "    }\n",
              "</style>\n",
              "<table border=\"1\" class=\"dataframe\">\n",
              "  <thead>\n",
              "    <tr style=\"text-align: right;\">\n",
              "      <th></th>\n",
              "      <th>Bust</th>\n",
              "      <th>Waist</th>\n",
              "      <th>Hips</th>\n",
              "      <th>US size</th>\n",
              "      <th>UK size</th>\n",
              "      <th>EU size</th>\n",
              "      <th>International</th>\n",
              "    </tr>\n",
              "  </thead>\n",
              "  <tbody>\n",
              "    <tr>\n",
              "      <th>0</th>\n",
              "      <td>74 cm (29\")</td>\n",
              "      <td>58 cm (23\")</td>\n",
              "      <td>80 cm (31.5\")</td>\n",
              "      <td>0</td>\n",
              "      <td>2</td>\n",
              "      <td>30</td>\n",
              "      <td>XXS</td>\n",
              "    </tr>\n",
              "    <tr>\n",
              "      <th>1</th>\n",
              "      <td>74-77 cm (29\"-30\")</td>\n",
              "      <td>58-61 cm (23\"-24\")</td>\n",
              "      <td>80-84 cm (31.5\"-33\")</td>\n",
              "      <td>0</td>\n",
              "      <td>4</td>\n",
              "      <td>32</td>\n",
              "      <td>XS</td>\n",
              "    </tr>\n",
              "    <tr>\n",
              "      <th>2</th>\n",
              "      <td>78-81 cm (31\"-32\")</td>\n",
              "      <td>62-64 cm (24\"-25\")</td>\n",
              "      <td>85-89 cm (33\"-35\")</td>\n",
              "      <td>2</td>\n",
              "      <td>6</td>\n",
              "      <td>34</td>\n",
              "      <td>XS</td>\n",
              "    </tr>\n",
              "    <tr>\n",
              "      <th>3</th>\n",
              "      <td>82-85 cm (32\"-33.5\")</td>\n",
              "      <td>65-68 cm (25\"-26.5\")</td>\n",
              "      <td>90-94 cm (35\"-37\")</td>\n",
              "      <td>4</td>\n",
              "      <td>8</td>\n",
              "      <td>36</td>\n",
              "      <td>S</td>\n",
              "    </tr>\n",
              "    <tr>\n",
              "      <th>4</th>\n",
              "      <td>86-89 cm (33.5\"-35\")</td>\n",
              "      <td>69-72 cm (26.5\"-28\")</td>\n",
              "      <td>95-97 cm (37\"-38\")</td>\n",
              "      <td>6</td>\n",
              "      <td>10</td>\n",
              "      <td>38</td>\n",
              "      <td>S</td>\n",
              "    </tr>\n",
              "    <tr>\n",
              "      <th>5</th>\n",
              "      <td>90-93 cm (35\"-36.5\")</td>\n",
              "      <td>73-77 cm (28\"-30\")</td>\n",
              "      <td>98-101 cm (38\"-40\")</td>\n",
              "      <td>8</td>\n",
              "      <td>12</td>\n",
              "      <td>40</td>\n",
              "      <td>M</td>\n",
              "    </tr>\n",
              "    <tr>\n",
              "      <th>6</th>\n",
              "      <td>94-97 cm (36.5\"-38\")</td>\n",
              "      <td>78-81 cm (30\"-32\")</td>\n",
              "      <td>102-104 cm (40\"-41\")</td>\n",
              "      <td>10</td>\n",
              "      <td>14</td>\n",
              "      <td>42</td>\n",
              "      <td>M</td>\n",
              "    </tr>\n",
              "    <tr>\n",
              "      <th>7</th>\n",
              "      <td>98-102 cm (38\"-40\")</td>\n",
              "      <td>82-85 cm (32\"-33.5\")</td>\n",
              "      <td>105-108 cm (41\"-42.5\")</td>\n",
              "      <td>12</td>\n",
              "      <td>16</td>\n",
              "      <td>44</td>\n",
              "      <td>L</td>\n",
              "    </tr>\n",
              "    <tr>\n",
              "      <th>8</th>\n",
              "      <td>103-107 cm (40\"-42\")</td>\n",
              "      <td>86-90 cm (33.5\"-35.5\")</td>\n",
              "      <td>109-112 cm (42.5\"-44\")</td>\n",
              "      <td>14</td>\n",
              "      <td>18</td>\n",
              "      <td>46</td>\n",
              "      <td>L</td>\n",
              "    </tr>\n",
              "    <tr>\n",
              "      <th>9</th>\n",
              "      <td>108-113 cm (42\"-44.5\")</td>\n",
              "      <td>91-95 cm (35.5\"-37.5\")</td>\n",
              "      <td>113-116 cm (44\"-45.5\")</td>\n",
              "      <td>16</td>\n",
              "      <td>20</td>\n",
              "      <td>48</td>\n",
              "      <td>XL</td>\n",
              "    </tr>\n",
              "    <tr>\n",
              "      <th>10</th>\n",
              "      <td>114-119 cm (44.5\"-47\")</td>\n",
              "      <td>96-102 cm (37.5\"-40\")</td>\n",
              "      <td>117-121 cm (45.5\"-48\")</td>\n",
              "      <td>18</td>\n",
              "      <td>22</td>\n",
              "      <td>50</td>\n",
              "      <td>XL</td>\n",
              "    </tr>\n",
              "    <tr>\n",
              "      <th>11</th>\n",
              "      <td>120-125 cm (47\"-49\")</td>\n",
              "      <td>103-108 cm (40\"-42.5\")</td>\n",
              "      <td>123-128 cm (48\"-50\")</td>\n",
              "      <td>20</td>\n",
              "      <td>24</td>\n",
              "      <td>52</td>\n",
              "      <td>XXL</td>\n",
              "    </tr>\n",
              "    <tr>\n",
              "      <th>12</th>\n",
              "      <td>126-131 cm (49\"-51.5\")</td>\n",
              "      <td>109-114 cm (42.5\"-45\")</td>\n",
              "      <td>129-134 cm (50\"-53\")</td>\n",
              "      <td>22</td>\n",
              "      <td>26</td>\n",
              "      <td>54</td>\n",
              "      <td>XXL</td>\n",
              "    </tr>\n",
              "  </tbody>\n",
              "</table>\n",
              "</div>"
            ],
            "text/plain": [
              "                      Bust                   Waist  ... EU size  International\n",
              "0              74 cm (29\")             58 cm (23\")  ...      30            XXS\n",
              "1       74-77 cm (29\"-30\")      58-61 cm (23\"-24\")  ...      32             XS\n",
              "2       78-81 cm (31\"-32\")      62-64 cm (24\"-25\")  ...      34             XS\n",
              "3     82-85 cm (32\"-33.5\")    65-68 cm (25\"-26.5\")  ...      36              S\n",
              "4     86-89 cm (33.5\"-35\")    69-72 cm (26.5\"-28\")  ...      38              S\n",
              "5     90-93 cm (35\"-36.5\")      73-77 cm (28\"-30\")  ...      40              M\n",
              "6     94-97 cm (36.5\"-38\")      78-81 cm (30\"-32\")  ...      42              M\n",
              "7      98-102 cm (38\"-40\")    82-85 cm (32\"-33.5\")  ...      44              L\n",
              "8     103-107 cm (40\"-42\")  86-90 cm (33.5\"-35.5\")  ...      46              L\n",
              "9   108-113 cm (42\"-44.5\")  91-95 cm (35.5\"-37.5\")  ...      48             XL\n",
              "10  114-119 cm (44.5\"-47\")   96-102 cm (37.5\"-40\")  ...      50             XL\n",
              "11    120-125 cm (47\"-49\")  103-108 cm (40\"-42.5\")  ...      52            XXL\n",
              "12  126-131 cm (49\"-51.5\")  109-114 cm (42.5\"-45\")  ...      54            XXL\n",
              "\n",
              "[13 rows x 7 columns]"
            ]
          },
          "metadata": {
            "tags": []
          },
          "execution_count": 17
        }
      ]
    },
    {
      "cell_type": "code",
      "metadata": {
        "colab": {
          "base_uri": "https://localhost:8080/"
        },
        "id": "_6tb_zVKZmNz",
        "outputId": "51abc095-5eb5-4567-e18c-0830f8c57add"
      },
      "source": [
        "bust = float(final_chest[0])\n",
        "waist = float(final_waist[0])\n",
        "hips = float(final_hip[0])\n",
        "sample = {'Bust': bust, 'Waist': waist, 'Hips':hips}\n",
        "\n",
        "labels = {'XS': 1, 'S': 2, 'M': 3, 'L': 4, 'XL': 5, 'XXL': 6}\n",
        "\n",
        "for i in range(1, len(df), 2):\n",
        "    # Special 'XXS' case\n",
        "    if sample['Bust'] == 74 and sample['Waist'] == 58 and sample['Hips'] == 80:\n",
        "        print(f\"Expected size - XXS\")\n",
        "        break\n",
        "        \n",
        "    b_min =  list(map(int, df.loc[i, \"Bust\"].split()[0].split('-')))[0] \n",
        "    b_max =  list(map(int, df.loc[i+1, \"Bust\"].split()[0].split('-')))[1]\n",
        "    \n",
        "    w_min =  list(map(int, df.loc[i, \"Waist\"].split()[0].split('-')))[0] \n",
        "    w_max =  list(map(int, df.loc[i+1, \"Waist\"].split()[0].split('-')))[1]\n",
        "    \n",
        "    h_min =  list(map(int, df.loc[i, \"Hips\"].split()[0].split('-')))[0]\n",
        "    h_max =  list(map(int, df.loc[i+1, \"Hips\"].split()[0].split('-')))[1]\n",
        "    \n",
        "    if b_min <= round(sample['Bust'], 0) <= b_max:\n",
        "        b = df.loc[i, 'International']\n",
        "    if w_min <= round(sample['Waist'], 0) <= w_max:\n",
        "        w = df.loc[i, 'International']\n",
        "    if h_min <= round(sample['Hips'], 0) <= h_max:\n",
        "        h = df.loc[i, 'International']\n",
        "    \n",
        "    if b_min <= sample['Bust'] <= b_max and w_min <= sample['Waist'] <= w_max and h_min <= sample['Hips'] <= h_max:\n",
        "        print(f\"Expected size - {df.loc[i, 'International']}\")\n",
        "        break\n",
        "else:\n",
        "  # Average sizecalculation\n",
        "  avg = round((labels[b] + labels[w] + labels[h])/3,0)\n",
        "  print(f\"Expected size - {list(labels.keys())[list(labels.values()).index(avg)]}\")\n"
      ],
      "execution_count": 18,
      "outputs": [
        {
          "output_type": "stream",
          "text": [
            "Expected size - L\n"
          ],
          "name": "stdout"
        }
      ]
    },
    {
      "cell_type": "code",
      "metadata": {
        "id": "n30XibnZci-A"
      },
      "source": [
        ""
      ],
      "execution_count": null,
      "outputs": []
    }
  ]
}